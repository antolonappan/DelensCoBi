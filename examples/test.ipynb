{
 "cells": [
  {
   "cell_type": "code",
   "execution_count": 1,
   "metadata": {},
   "outputs": [],
   "source": [
    "import matplotlib.pyplot as plt\n",
    "from tqdm import tqdm\n",
    "import numpy as np\n",
    "import os\n",
    "import healpy as hp\n",
    "import sys\n",
    "sys.path.append('../')"
   ]
  },
  {
   "cell_type": "code",
   "execution_count": 2,
   "metadata": {},
   "outputs": [
    {
     "name": "stdout",
     "output_type": "stream",
     "text": [
      "MPI startup(): FI_PSM3_UUID was not generated, please set it to avoid possible resources ownership conflicts between MPI processes\n"
     ]
    }
   ],
   "source": [
    "%load_ext autoreload\n",
    "%autoreload 2\n",
    "from dance.simulations import Sky, CMB\n",
    "from dance.filtering import WienerFilter\n",
    "from dance.qe import Reconstruct\n",
    "from dance import utils\n",
    "from dance.delens import Delens\n",
    "from dance.spectra import Likelihood"
   ]
  },
  {
   "cell_type": "code",
   "execution_count": 3,
   "metadata": {},
   "outputs": [],
   "source": [
    "basedir = '/mnt/sdceph/users/alonappan/DANCE'"
   ]
  },
  {
   "cell_type": "code",
   "execution_count": 4,
   "metadata": {},
   "outputs": [
    {
     "name": "stderr",
     "output_type": "stream",
     "text": [
      "CMB : INFO - Isotropic(constant) cosmic birefringence model selected\n",
      "CMB : INFO - Loading CMB power spectra from file\n",
      "CMB : INFO - Isotropic(constant) cosmic birefringence model selected\n",
      "CMB : INFO - Loading CMB power spectra from file\n",
      "/mnt/home/alonappan/anaconda3/cstm_pkgs/plancklens/plancklens/utils.py:124: RuntimeWarning: overflow encountered in cast\n",
      "  return hashlib.sha1(np.copy(cl.astype(dtype), order='C')).hexdigest()\n",
      "CMB : INFO - Isotropic(constant) cosmic birefringence model selected\n",
      "CMB : INFO - Loading CMB power spectra from file\n",
      "CMB : INFO - Isotropic(constant) cosmic birefringence model selected\n",
      "CMB : INFO - Loading CMB power spectra from file\n"
     ]
    }
   ],
   "source": [
    "delens_iso = Delens(basedir,1024,\"iso\",beta=0.35,lmin_ivf=2,lmax_ivf=3000,lmax_qlm=3000,qe_key=\"p_p\",lmin_delens=50,lmax_delens=3000)"
   ]
  },
  {
   "cell_type": "code",
   "execution_count": 6,
   "metadata": {},
   "outputs": [
    {
     "name": "stderr",
     "output_type": "stream",
     "text": [
      "CMB : INFO - Isotropic(constant) cosmic birefringence model selected\n",
      "CMB : INFO - Loading CMB power spectra from file\n",
      "CMB : INFO - Isotropic(constant) cosmic birefringence model selected\n",
      "CMB : INFO - Loading CMB power spectra from file\n",
      "/mnt/home/alonappan/anaconda3/cstm_pkgs/plancklens/plancklens/utils.py:124: RuntimeWarning: overflow encountered in cast\n",
      "  return hashlib.sha1(np.copy(cl.astype(dtype), order='C')).hexdigest()\n"
     ]
    }
   ],
   "source": [
    "recon = Reconstruct(basedir,1024,\"iso\",beta=0.35,lmin_ivf=2,lmax_ivf=3000,lmax_qlm=3000,qe_key=\"p_p\")"
   ]
  },
  {
   "cell_type": "code",
   "execution_count": null,
   "metadata": {},
   "outputs": [],
   "source": [
    "recon.get_qlm(0,wf=True,"
   ]
  }
 ],
 "metadata": {
  "kernelspec": {
   "display_name": "cosmo",
   "language": "python",
   "name": "python3"
  },
  "language_info": {
   "codemirror_mode": {
    "name": "ipython",
    "version": 3
   },
   "file_extension": ".py",
   "mimetype": "text/x-python",
   "name": "python",
   "nbconvert_exporter": "python",
   "pygments_lexer": "ipython3",
   "version": "3.9.19"
  }
 },
 "nbformat": 4,
 "nbformat_minor": 2
}
