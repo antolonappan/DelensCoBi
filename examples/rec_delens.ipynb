{
 "cells": [
  {
   "cell_type": "code",
   "execution_count": 17,
   "metadata": {},
   "outputs": [],
   "source": [
    "import numpy as np\n",
    "import matplotlib.pyplot as plt\n",
    "import healpy as hp\n",
    "import sys\n",
    "sys.path.append('../')\n",
    "from plancklens import utils\n",
    "from tqdm import tqdm\n",
    "from getdist import plots, MCSamples"
   ]
  },
  {
   "cell_type": "code",
   "execution_count": 2,
   "metadata": {},
   "outputs": [
    {
     "name": "stdout",
     "output_type": "stream",
     "text": [
      "MPI startup(): FI_PSM3_UUID was not generated, please set it to avoid possible resources ownership conflicts between MPI processes\n"
     ]
    }
   ],
   "source": [
    "%load_ext autoreload\n",
    "%autoreload 2\n",
    "from dance.filtering import WienerFilter\n",
    "from dance.qe import Reconstruct\n",
    "from dance.delens import Delens\n",
    "from dance.utils import bin_cmb_spectrum"
   ]
  },
  {
   "cell_type": "code",
   "execution_count": 3,
   "metadata": {},
   "outputs": [],
   "source": [
    "import emcee"
   ]
  },
  {
   "cell_type": "code",
   "execution_count": 4,
   "metadata": {},
   "outputs": [],
   "source": [
    "def theory(acb,L):\n",
    "      return np.exp(acb) * 2 * np.pi / ( L**2 + L + 1e-30)\n",
    "\n",
    "def chi_sq(acb):\n",
    "        theory_cl = theory(acb,bb)\n",
    "        delta = data.mean(axis=0) - theory_cl\n",
    "        return np.sum((delta)**2 / data.std(axis=0)**2)\n",
    "\n",
    "def log_likelihood(theta):\n",
    "    return -0.5 * chi_sq(theta)\n",
    "\n",
    "\n",
    "def log_prior(theta):\n",
    "    if -14 < theta < -12:\n",
    "        return 0.0\n",
    "    return -np.inf\n",
    "\n",
    "def log_probability(theta):\n",
    "    lp = log_prior(theta)\n",
    "    if not np.isfinite(lp):\n",
    "        return -np.inf\n",
    "    return lp + log_likelihood(theta)\n",
    "\n",
    "\n",
    "def get_pos_nwalkers_ndim():\n",
    "    pos = [-13.8] + 1e-1 * np.random.randn(32, 1)\n",
    "    nwalkers, ndim = pos.shape\n",
    "    return pos, nwalkers, ndim\n",
    "\n",
    "def get_samp():\n",
    "    pos, nwalkers, ndim = get_pos_nwalkers_ndim()\n",
    "    sampler = emcee.EnsembleSampler(nwalkers, ndim, log_probability, threads=24,)\n",
    "    sampler.run_mcmc(pos, 5000, progress=True)\n",
    "    samples = sampler.get_chain(discard=100, thin=15, flat=True)\n",
    "    return samples\n"
   ]
  },
  {
   "cell_type": "code",
   "execution_count": 5,
   "metadata": {},
   "outputs": [],
   "source": [
    "basedir = '/mnt/sdceph/users/alonappan/DANCE'"
   ]
  },
  {
   "cell_type": "code",
   "execution_count": 6,
   "metadata": {},
   "outputs": [
    {
     "name": "stderr",
     "output_type": "stream",
     "text": [
      "CMB : INFO - Anisotropic cosmic birefringence model selected\n",
      "CMB : INFO - Loading CMB power spectra from file\n",
      "CMB : INFO - Anisotropic cosmic birefringence model selected\n"
     ]
    },
    {
     "name": "stderr",
     "output_type": "stream",
     "text": [
      "CMB : INFO - Loading CMB power spectra from file\n",
      "/mnt/home/alonappan/anaconda3/cstm_pkgs/plancklens/plancklens/utils.py:124: RuntimeWarning: overflow encountered in cast\n",
      "  return hashlib.sha1(np.copy(cl.astype(dtype), order='C')).hexdigest()\n"
     ]
    }
   ],
   "source": [
    "recon_aniso = Reconstruct(basedir,2048,1,True,\"aniso\",Acb=1e-6,lmin_ivf=2,lmax_ivf=4096,lmax_qlm=4096,qe_key=\"a_p\")"
   ]
  },
  {
   "cell_type": "code",
   "execution_count": 7,
   "metadata": {},
   "outputs": [
    {
     "name": "stderr",
     "output_type": "stream",
     "text": [
      "CMB : INFO - Anisotropic cosmic birefringence model selected\n",
      "CMB : INFO - Loading CMB power spectra from file\n",
      "CMB : INFO - Anisotropic cosmic birefringence model selected\n",
      "CMB : INFO - Loading CMB power spectra from file\n"
     ]
    },
    {
     "name": "stderr",
     "output_type": "stream",
     "text": [
      "CMB : INFO - Anisotropic cosmic birefringence model selected\n",
      "CMB : INFO - Loading CMB power spectra from file\n",
      "CMB : INFO - Anisotropic cosmic birefringence model selected\n",
      "CMB : INFO - Loading CMB power spectra from file\n",
      "CMB : INFO - Anisotropic cosmic birefringence model selected\n",
      "CMB : INFO - Loading CMB power spectra from file\n",
      "CMB : INFO - Anisotropic cosmic birefringence model selected\n",
      "CMB : INFO - Loading CMB power spectra from file\n"
     ]
    },
    {
     "name": "stdout",
     "output_type": "stream",
     "text": [
      "Delens Filtering\n"
     ]
    }
   ],
   "source": [
    "delens = Delens(basedir,2048,1,True,\"aniso\",Acb=1e-6,lmin_ivf=2,lmax_ivf=4096,lmax_qlm=4096,qe_key=\"p_p\",lmin_delens=50,lmax_delens=4096)\n",
    "recon_delens = Reconstruct(basedir,2048,1,True,\"aniso\",Acb=1e-6,lmin_ivf=2,lmax_ivf=4096,lmax_qlm=4096,qe_key=\"a_p\",delens=delens)"
   ]
  },
  {
   "cell_type": "code",
   "execution_count": 8,
   "metadata": {},
   "outputs": [
    {
     "name": "stderr",
     "output_type": "stream",
     "text": [
      "  0%|          | 0/100 [00:00<?, ?it/s]"
     ]
    },
    {
     "name": "stderr",
     "output_type": "stream",
     "text": [
      "100%|██████████| 100/100 [07:45<00:00,  4.65s/it]\n"
     ]
    }
   ],
   "source": [
    "ap_bd = []\n",
    "for i in tqdm(range(100)):\n",
    "    oalm = recon_aniso.get_qlm(i)\n",
    "    talm = recon_aniso.get_qlm_th(i)\n",
    "    cl = hp.alm2cl(oalm,talm)\n",
    "    ap_bd.append(cl)\n",
    "ap_bd = np.array(ap_bd)"
   ]
  },
  {
   "cell_type": "code",
   "execution_count": 9,
   "metadata": {},
   "outputs": [
    {
     "name": "stderr",
     "output_type": "stream",
     "text": [
      "  8%|▊         | 8/100 [00:36<07:00,  4.57s/it]"
     ]
    },
    {
     "name": "stderr",
     "output_type": "stream",
     "text": [
      "100%|██████████| 100/100 [07:41<00:00,  4.62s/it]\n"
     ]
    }
   ],
   "source": [
    "ap_ad = []\n",
    "for i in tqdm(range(100)):\n",
    "    oalm = recon_delens.get_qlm(i)\n",
    "    talm = recon_delens.get_qlm_th(i)\n",
    "    cl = hp.alm2cl(oalm,talm)\n",
    "    ap_ad.append(cl)\n",
    "ap_ad = np.array(ap_ad)"
   ]
  },
  {
   "cell_type": "code",
   "execution_count": 10,
   "metadata": {},
   "outputs": [
    {
     "name": "stderr",
     "output_type": "stream",
     "text": [
      "100%|██████████| 100/100 [00:01<00:00, 52.28it/s]\n"
     ]
    }
   ],
   "source": [
    "ap_bd_bin = []\n",
    "for i in tqdm(range(100)):\n",
    "    bd_bin, bcl = bin_cmb_spectrum(ap_bd[i],2)\n",
    "    ap_bd_bin.append(bcl)\n",
    "ap_bd_bin = np.array(ap_bd_bin)"
   ]
  },
  {
   "cell_type": "code",
   "execution_count": 11,
   "metadata": {},
   "outputs": [
    {
     "name": "stderr",
     "output_type": "stream",
     "text": [
      "100%|██████████| 100/100 [00:01<00:00, 52.23it/s]\n"
     ]
    }
   ],
   "source": [
    "ap_ad_bin = []\n",
    "for i in tqdm(range(100)):\n",
    "    ad_bin, bcl = bin_cmb_spectrum(ap_ad[i],2)\n",
    "    ap_ad_bin.append(bcl)\n",
    "ap_ad_bin = np.array(ap_ad_bin)"
   ]
  },
  {
   "cell_type": "code",
   "execution_count": 162,
   "metadata": {},
   "outputs": [
    {
     "data": {
      "image/png": "[encoded data removed]",
      "text/plain": [
       "<Figure size 600x600 with 1 Axes>"
      ]
     },
     "metadata": {},
     "output_type": "display_data"
    }
   ],
   "source": [
    "plt.figure(figsize=(6,6))\n",
    "plt.loglog(recon_aniso.cmb.cl_aa(),label='Signal')\n",
    "plt.errorbar(bd_bin+0.1,ap_bd_bin.mean(axis=0),ap_bd_bin.std(axis=0),fmt='o', label='Lensed')\n",
    "plt.errorbar(ad_bin,ap_ad_bin.mean(axis=0),ap_ad_bin.std(axis=0),fmt='o', label='Delensed')\n",
    "plt.loglog(recon_aniso.get_n0(0),label='$N_{(0)}^{Lensed}$')\n",
    "plt.loglog(recon_delens.get_n0(0),label='$N_{(0)}^{Delensed}$')\n",
    "plt.ylim(1e-10,1e-5)\n",
    "plt.xlim(2,100)\n",
    "plt.xlabel('$L$', fontsize=20)\n",
    "plt.ylabel(r'$C_L^{\\alpha \\alpha}$', fontsize=20)\n",
    "plt.legend(fontsize=15)\n",
    "plt.savefig('claa.pdf',bbox_inches='tight',dpi=300)"
   ]
  },
  {
   "cell_type": "code",
   "execution_count": 12,
   "metadata": {},
   "outputs": [
    {
     "name": "stderr",
     "output_type": "stream",
     "text": [
      "100%|██████████| 5000/5000 [00:11<00:00, 453.19it/s]\n"
     ]
    }
   ],
   "source": [
    "data = ap_bd_bin.copy()\n",
    "bb = bd_bin.copy()\n",
    "sel = np.where((bb>2) & (bb<100))[0]\n",
    "data = data[:,sel]\n",
    "bb = bb[sel]\n",
    "bdsamp = get_samp()"
   ]
  },
  {
   "cell_type": "code",
   "execution_count": 13,
   "metadata": {},
   "outputs": [
    {
     "name": "stderr",
     "output_type": "stream",
     "text": [
      "100%|██████████| 5000/5000 [00:10<00:00, 455.49it/s]\n"
     ]
    }
   ],
   "source": [
    "data = ap_ad_bin.copy()\n",
    "bb = ad_bin.copy()\n",
    "sel = np.where((bb>2) & (bb<100))[0]\n",
    "data = data[:,sel]\n",
    "bb = bb[sel]\n",
    "adsamp = get_samp()"
   ]
  },
  {
   "cell_type": "code",
   "execution_count": 172,
   "metadata": {},
   "outputs": [
    {
     "data": {
      "text/plain": [
       "-13.815510557964274"
      ]
     },
     "execution_count": 172,
     "metadata": {},
     "output_type": "execute_result"
    }
   ],
   "source": [
    "np.log(1e-6)"
   ]
  },
  {
   "cell_type": "code",
   "execution_count": 14,
   "metadata": {},
   "outputs": [],
   "source": [
    "correction = np.mean(adsamp) - (-13.815)\n",
    "mbdsamp = bdsamp - correction"
   ]
  },
  {
   "cell_type": "code",
   "execution_count": 15,
   "metadata": {},
   "outputs": [],
   "source": [
    "correction = np.mean(adsamp) - (-13.815)\n",
    "madsamp = adsamp - correction"
   ]
  },
  {
   "cell_type": "code",
   "execution_count": 154,
   "metadata": {},
   "outputs": [
    {
     "data": {
      "text/plain": [
       "(1.0493114240610783e-06, 3.252298799820407e-08)"
      ]
     },
     "execution_count": 154,
     "metadata": {},
     "output_type": "execute_result"
    }
   ],
   "source": [
    "sampl = np.exp(adsamp)\n",
    "sampl.mean(), sampl.std()"
   ]
  },
  {
   "cell_type": "code",
   "execution_count": 155,
   "metadata": {},
   "outputs": [
    {
     "data": {
      "text/plain": [
       "0.09722222222222221"
      ]
     },
     "execution_count": 155,
     "metadata": {},
     "output_type": "execute_result"
    }
   ],
   "source": [
    "1 - 3.25/3.6"
   ]
  },
  {
   "cell_type": "code",
   "execution_count": 18,
   "metadata": {},
   "outputs": [],
   "source": [
    "from getdist import MCSamples, plots"
   ]
  },
  {
   "cell_type": "code",
   "execution_count": 21,
   "metadata": {},
   "outputs": [
    {
     "name": "stdout",
     "output_type": "stream",
     "text": [
      "Removed no burn in\n",
      "Removed no burn in\n"
     ]
    }
   ],
   "source": [
    "names = ['acb']\n",
    "labels =  [\"\\mathrm{ln}\\;A_{CB}\"]\n",
    "bdSamp =  MCSamples(samples=mbdsamp, names = names, labels = labels, label='Lensed')\n",
    "adSamp =  MCSamples(samples=madsamp, names = names, labels = labels, label='Delensed')"
   ]
  },
  {
   "cell_type": "code",
   "execution_count": 22,
   "metadata": {},
   "outputs": [],
   "source": [
    "g = plots.get_subplot_plotter(width_inch=4)\n",
    "g.triangle_plot([bdSamp,adSamp], filled=True)\n",
    "plt.axvline(np.log(1e-6), c='k', ls='--')\n",
    "plt.savefig('triangle.pdf',bbox_inches='tight',dpi=300)"
   ]
  },
  {
   "cell_type": "code",
   "execution_count": null,
   "metadata": {},
   "outputs": [],
   "source": []
  }
 ],
 "metadata": {
  "kernelspec": {
   "display_name": "cosmo",
   "language": "python",
   "name": "python3"
  },
  "language_info": {
   "codemirror_mode": {
    "name": "ipython",
    "version": 3
   },
   "file_extension": ".py",
   "mimetype": "text/x-python",
   "name": "python",
   "nbconvert_exporter": "python",
   "pygments_lexer": "ipython3",
   "version": "3.9.19"
  }
 },
 "nbformat": 4,
 "nbformat_minor": 2
}
